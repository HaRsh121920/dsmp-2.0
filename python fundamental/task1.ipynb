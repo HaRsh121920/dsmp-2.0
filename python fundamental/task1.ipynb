{
  "cells": [
    {
      "cell_type": "markdown",
      "metadata": {
        "id": "A05OG15VqOPF"
      },
      "source": [
        "# Task : Session 1\n",
        "Solve these questions own your own and try to test yourself what you have learned in the session.\n",
        "\n",
        "Happy Learning!"
      ]
    },
    {
      "cell_type": "markdown",
      "metadata": {
        "id": "2doIXf8bqe9_"
      },
      "source": [
        "### Q1 :- Print the given strings as per stated format.\n",
        "\n",
        "**Given strings**:\n",
        "```\n",
        "\"Data\" \"Science\" \"Mentorship\" \"Program\"\n",
        "\"By\" \"CampusX\"\n",
        "```\n",
        "**Output**:\n",
        "```\n",
        "Data-Science-Mentorship-Program-started-By-CampusX\n",
        "```\n",
        "\n",
        "Concept- [Seperator and End]"
      ]
    },
    {
      "cell_type": "code",
      "execution_count": null,
      "metadata": {
        "id": "-em6d3KErDtp"
      },
      "outputs": [],
      "source": [
        "s1 = \"Data\"\n",
        "s2 = \"Science\"\n",
        "s3 = \"Mentorship\"\n",
        "s4 = \"Program\"\n",
        "s5 = \"By\"\n",
        "s6 = \"CampusX\"\n",
        "print(s1, end=\"-\")\n",
        "print(s2,end =\"-\")\n",
        "print(s3, end=\"-\")\n",
        "print(s4, end=\"-\")\n",
        "print(s5, end=\"-\")\n",
        "print(s6)"
      ]
    },
    {
      "cell_type": "markdown",
      "metadata": {
        "id": "1KUpN7ZTrC3_"
      },
      "source": [
        "### Q2:- Write a program that will convert celsius value to fahrenheit."
      ]
    },
    {
      "cell_type": "code",
      "execution_count": null,
      "metadata": {
        "id": "yxKYhYQiqWfj"
      },
      "outputs": [],
      "source": [
        "x = int(input(\"enter a celsius value:\"))\n",
        "fer = (x* 9/5) + 32\n",
        "print(fer)"
      ]
    },
    {
      "cell_type": "markdown",
      "metadata": {
        "id": "RLrOBBJurLB2"
      },
      "source": [
        "### Q3:- Take 2 numbers as input from the user.Write a program to swap the numbers without using any special python syntax."
      ]
    },
    {
      "cell_type": "code",
      "execution_count": 1,
      "metadata": {
        "id": "yPn7if0TrJ4F"
      },
      "outputs": [],
      "source": [
        "\n",
        "# method 1 \n",
        "\n",
        "x = int(input(\"enter 1st number:\"))\n",
        "y = int(input(\"enter 2nd number:\"))\n",
        "j = x \n",
        "x = y\n",
        "y = j\n",
        "print(x,y)\n",
        "\n",
        "# method 2 \n",
        "\n",
        "x = int(input(\"enter 1st number:\"))\n",
        "y = int(input(\"enter 2nd number:\"))\n",
        "x = x+y\n",
        "y = x-y\n",
        "x = x-y\n",
        "print(x,y)\n"
      ]
    },
    {
      "cell_type": "markdown",
      "metadata": {
        "id": "waLCP1bjr7ML"
      },
      "source": [
        "### Q4:- Write a program to find the euclidean distance between two coordinates.Take both the coordinates from the user as input."
      ]
    },
    {
      "cell_type": "code",
      "execution_count": 1,
      "metadata": {
        "id": "Pl1Sv-xnrxnH"
      },
      "outputs": [],
      "source": [
        "\n",
        "x1 = int(input(\"enter 1st number:\"))\n",
        "y1 = int(input(\"enter 2nd number:\"))\n",
        "\n",
        "x2 = int(input(\"enter 1st number:\"))\n",
        "y2 = int(input(\"enter 2nd number:\"))\n",
        "\n",
        "ed = ((x1-x2)**2 + (y1 - y2)**2)**(1/2)\n",
        "print(ed)"
      ]
    },
    {
      "cell_type": "markdown",
      "metadata": {
        "id": "VLrhg-FRsHjR"
      },
      "source": [
        "### Q5:- Write a program to find the simple interest when the value of principle,rate of interest and time period is provided by the user.\n"
      ]
    },
    {
      "cell_type": "code",
      "execution_count": null,
      "metadata": {
        "id": "s40DlReZsTmY"
      },
      "outputs": [],
      "source": [
        "P = int(input(\"enter  number:\"))\n",
        "R = int(input(\"enter  number:\"))\n",
        "T = int(input(\"enter number:\"))\n",
        "INTEREST =  P*R*T/100\n",
        "\n",
        "print(INTEREST)\n"
      ]
    },
    {
      "cell_type": "markdown",
      "metadata": {
        "id": "LMy0BTUktYKa"
      },
      "source": [
        "### Q6:- Write a program that will tell the number of dogs and chicken are there when the user will provide the value of total heads and legs.\n",
        "\n",
        "For example:\n",
        "Input:\n",
        "heads -> 4\n",
        "legs -> 12\n",
        "<br>\n",
        "Output:\n",
        "dogs -> 2\n",
        "chicken -> 2\n",
        "\n",
        "\n",
        "\n"
      ]
    },
    {
      "cell_type": "code",
      "execution_count": 5,
      "metadata": {
        "id": "XSBvJoA4tXaG"
      },
      "outputs": [
        {
          "name": "stdout",
          "output_type": "stream",
          "text": [
            "total number of dogs:  3\n",
            "total number of hens:\n"
          ]
        }
      ],
      "source": [
        "LEG = int(input(\"Enter the total number of legs: \"))\n",
        "HEAD = int(input(\"Enter the total number of heads: \"))\n",
        "\n",
        "y = (LEG - 2 * HEAD) // 2 \n",
        "x = HEAD - y              \n",
        "\n",
        "if y >= 0 and x >= 0:\n",
        "    print(\"Total number of dogs:\", y)\n",
        "    print(\"Total number of chickens:\", x)\n",
        "else:\n",
        "    print(\"No valid solution found!\")"
      ]
    },
    {
      "cell_type": "code",
      "execution_count": null,
      "metadata": {},
      "outputs": [],
      "source": []
    },
    {
      "cell_type": "markdown",
      "metadata": {
        "id": "gJ7C5kZYt4BP"
      },
      "source": [
        "### Q7:- Write a program to find the sum of squares of first n natural numbers where n will be provided by the user."
      ]
    },
    {
      "cell_type": "code",
      "execution_count": null,
      "metadata": {
        "id": "_tHsmEHzt2nX"
      },
      "outputs": [],
      "source": [
        "x = int(input(\"enter a number:\"))\n",
        "h = 0\n",
        "for i in range(x):\n",
        "    h = h +i*i\n",
        "print(h) "
      ]
    },
    {
      "cell_type": "markdown",
      "metadata": {
        "id": "FHrMM7g-yG1h"
      },
      "source": [
        "### Q8:- Given the first 2 terms of an Arithmetic Series.Find the Nth term of the series. Assume all inputs are provided by the user."
      ]
    },
    {
      "cell_type": "code",
      "execution_count": null,
      "metadata": {
        "id": "go4_kmZmyVSx"
      },
      "outputs": [],
      "source": [
        "x1 = int(input(\"enter  number:\"))\n",
        "x2 = int(input(\"enter  number:\"))\n",
        "n = int(input(\"enter number\"))\n",
        "d = x2-x1\n",
        "a = x1+(n-1)*d\n",
        "print(a)"
      ]
    },
    {
      "cell_type": "markdown",
      "metadata": {
        "id": "QgyRX_es1oum"
      },
      "source": [
        "### Q9:- Given 2 fractions, find the sum of those 2 fractions.Take the numerator and denominator values of the fractions from the user."
      ]
    },
    {
      "cell_type": "code",
      "execution_count": 13,
      "metadata": {
        "id": "X05xqFS1yW16"
      },
      "outputs": [
        {
          "data": {
            "text/plain": [
              "2.0"
            ]
          },
          "execution_count": 13,
          "metadata": {},
          "output_type": "execute_result"
        }
      ],
      "source": [
        "n1 = int(input(\"enter  numberator1 :\"))\n",
        "n2 = int(input(\"enter  denomenator1 :\"))\n",
        "o1 = int(input(\"enter  numberator2 :\"))\n",
        "o2 = int(input(\"enter  numberator2 :\"))\n",
        "import math\n",
        "x = abs(o1* o2) // math.gcd(o1,o2)\n",
        "x1 = (n1*(x//o1)+n2*(x//o2))\n",
        "x2  = x\n",
        "n = x1/x2\n",
        "n\n",
        "\n"
      ]
    },
    {
      "cell_type": "markdown",
      "metadata": {
        "id": "eaql38ln13u7"
      },
      "source": []
    },
    {
      "cell_type": "markdown",
      "metadata": {},
      "source": [
        "### Q10:- Given the height, width and breadth of a milk tank, you have to find out how many glasses of milk can be obtained? Assume all the inputs are provided by the user.\n",
        "\n",
        "\n",
        "\n",
        "Input:<br>\n",
        "Dimensions of the milk tank<br>\n",
        "H = 20cm, L = 20cm, B = 20cm\n",
        "<br><br>\n",
        "Dimensions of the glass<br>\n",
        "h = 3cm, r = 1cm"
      ]
    },
    {
      "cell_type": "code",
      "execution_count": 15,
      "metadata": {
        "id": "FePZqno74eWv"
      },
      "outputs": [
        {
          "data": {
            "text/plain": [
              "849.0"
            ]
          },
          "execution_count": 15,
          "metadata": {},
          "output_type": "execute_result"
        }
      ],
      "source": [
        "H = int(input(\"enter a height :\"))\n",
        "L = int(input(\"enter a length :\"))\n",
        "B = int(input(\"enter a breath\"))\n",
        "\n",
        "dim1 = H*L*B\n",
        "\n",
        "r = int(input(\"enter a radius: \"))\n",
        "h = int(input(\"enter a height: \"))\n",
        "pi = 3.14\n",
        "dim2 = (pi)*r*r*h\n",
        "\n",
        "x = dim1//dim2\n",
        "x\n",
        "\n"
      ]
    },
    {
      "cell_type": "code",
      "execution_count": null,
      "metadata": {},
      "outputs": [],
      "source": []
    }
  ],
  "metadata": {
    "colab": {
      "provenance": []
    },
    "kernelspec": {
      "display_name": "Python 3",
      "name": "python3"
    },
    "language_info": {
      "codemirror_mode": {
        "name": "ipython",
        "version": 3
      },
      "file_extension": ".py",
      "mimetype": "text/x-python",
      "name": "python",
      "nbconvert_exporter": "python",
      "pygments_lexer": "ipython3",
      "version": "3.12.4"
    }
  },
  "nbformat": 4,
  "nbformat_minor": 0
}
